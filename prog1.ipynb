{
 "cells": [
  {
   "cell_type": "code",
   "execution_count": 1,
   "metadata": {},
   "outputs": [
    {
     "name": "stdout",
     "output_type": "stream",
     "text": [
      "<_csv.reader object at 0xb512bdbc>\n",
      " the given training example are\n",
      "['sunny', 'warm', 'normal', 'strong', 'warm', 'same', 'yes']\n",
      "['sunny', 'warm', 'high', 'strong', 'warm', 'same', 'yes']\n",
      "['sunny', 'warm', 'high', 'strong', 'warm', 'change', 'no']\n",
      "['sunny', 'warm', 'high', 'strong', 'cool', 'change', 'yes']\n",
      "\n",
      "\n",
      "positive examples are\n",
      "['sunny', 'warm', 'normal', 'strong', 'warm', 'same', 'yes']\n",
      "['sunny', 'warm', 'high', 'strong', 'warm', 'same', 'yes']\n",
      "['sunny', 'warm', 'high', 'strong', 'cool', 'change', 'yes']\n",
      "\n",
      "\n",
      "('steps of find S algorithm', ['%', '%', '%', '%', '%', '%'])\n",
      "['sunny', 'warm', 'normal', 'strong', 'warm', 'same']\n",
      "['sunny', 'warm', '?', 'strong', 'warm', 'same']\n",
      "['sunny', 'warm', '?', 'strong', '?', '?']\n",
      "['sunny', 'warm', '?', 'strong', '?', '?']\n",
      "\n",
      " Maximum specification find S hypothesis for given example\n",
      "['sunny', 'warm', '?', 'strong', '?', '?']\n"
     ]
    }
   ],
   "source": [
    "import csv\n",
    "hypo=['%','%','%','%','%','%']\n",
    "with open('/home/weblab-sys-11/1ce15cs118/prg1/pg1.csv')as csv_file:\n",
    "    readcsv=csv.reader(csv_file)\n",
    "    print(readcsv)\n",
    "    data=[]\n",
    "    print(\" the given training example are\")\n",
    "    for row in readcsv:\n",
    "        print(row)\n",
    "        if row[len(row)-1].upper()== 'YES':\n",
    "            data.append(row)\n",
    "print('\\n')\n",
    "print(\"positive examples are\")\n",
    "for x in data:\n",
    "    print(x)\n",
    "TotalExample=len(data)\n",
    "i=0\n",
    "j=0\n",
    "k=0\n",
    "print('\\n')\n",
    "print(\"steps of find S algorithm\",hypo)\n",
    "list=[]\n",
    "p=0\n",
    "d=len(data[p])-1\n",
    "for j in range (d):\n",
    "    list.append(data[i][j])\n",
    "hypo=list\n",
    "for i in range(TotalExample):\n",
    "    for k in range (d):\n",
    "        if hypo[k]!=data[i][k]:\n",
    "            hypo [k]='?'\n",
    "            k=k+1\n",
    "        else:\n",
    "            hypo[k]\n",
    "    print(hypo)\n",
    "    i=i+1\n",
    "print(hypo)\n",
    "print(\"\\n Maximum specification find S hypothesis for given example\")\n",
    "list=[]\n",
    "for i in range(d):\n",
    "    list.append (hypo[i])\n",
    "print(list)\n",
    "        "
   ]
  },
  {
   "cell_type": "code",
   "execution_count": null,
   "metadata": {},
   "outputs": [],
   "source": []
  }
 ],
 "metadata": {
  "kernelspec": {
   "display_name": "Python 2",
   "language": "python",
   "name": "python2"
  },
  "language_info": {
   "codemirror_mode": {
    "name": "ipython",
    "version": 2
   },
   "file_extension": ".py",
   "mimetype": "text/x-python",
   "name": "python",
   "nbconvert_exporter": "python",
   "pygments_lexer": "ipython2",
   "version": "2.7.15"
  }
 },
 "nbformat": 4,
 "nbformat_minor": 2
}
