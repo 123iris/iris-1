{
 "cells": [
  {
   "cell_type": "code",
   "execution_count": 1,
   "metadata": {},
   "outputs": [
    {
     "name": "stdout",
     "output_type": "stream",
     "text": [
      "[5 9 8 4 7 2 3 1 6 4 6]\n",
      "[5 1 2 6 3 8 7 9 4 6 4]\n",
      "('the value', [(5, 5), (9, 1), (8, 2), (4, 6), (7, 3), (2, 8), (3, 7), (1, 9), (6, 4), (4, 6), (6, 4)])\n",
      "[ 0.00796672 -0.09125939]\n",
      "[ 0.04620638 -0.05680878]\n",
      "[ 0.02203957 -0.02519619]\n",
      "[ 0.00533685 -0.00675812]\n",
      "[ 0.00090446 -0.00162885]\n",
      "[ 6.34794565e-05 -4.42987679e-04]\n"
     ]
    },
    {
     "data": {
      "text/plain": [
       "<Figure size 640x480 with 1 Axes>"
      ]
     },
     "metadata": {},
     "output_type": "display_data"
    }
   ],
   "source": [
    "import numpy as np\n",
    "import math\n",
    "import matplotlib.pyplot as plt\n",
    "import csv\n",
    "def get_binomial_log_likelihood(obs,probs):\n",
    "    \"\"\"Return the (log)likelihood of obs, given the probs\"\"\"\n",
    "    N=sum(obs);\n",
    "    k=obs[0]\n",
    "    binomial_coeff=math.factorial(N)/(math.factorial(N-k)*math.factorial(k))\n",
    "    prod_probs=obs[0]*math.log(probs[0])+obs[1]*math.log(1-probs[0])\n",
    "    log_lik=binomial_coeff+prod_probs\n",
    "    return log_lik\n",
    "data=[]\n",
    "with open(\"/home/weblab-sys-11/1ce15cs118/prg8/cluster.csv\")as tsv:\n",
    "    for line in csv.reader(tsv):\n",
    "        data=[int(i) for i in line]\n",
    "\n",
    "head_counts=np.array(data)\n",
    "print(head_counts)\n",
    "tail_counts=10-head_counts\n",
    "print(tail_counts)\n",
    "experiments=list(zip(head_counts,tail_counts))\n",
    "print(\"the value\" ,experiments)\n",
    "pA_heads=np.zeros(100)\n",
    "pA_heads[0]=0.60\n",
    "pB_heads=np.zeros(100)\n",
    "pB_heads[0]=0.50\n",
    "delta=0.001\n",
    "j=0\n",
    "improvement=float('inf')\n",
    "while (improvement>delta):\n",
    "    expectation_A=np.zeros((len(experiments),2), dtype=float)\n",
    " \n",
    "    expectation_B=np.zeros((len(experiments),2), dtype=float)\n",
    "    \n",
    "    for i in range(0,len(experiments)):\n",
    "        e=experiments[i]\n",
    "      \n",
    "        ll_A=get_binomial_log_likelihood(e,np.array([pA_heads[j],1-pA_heads[j]]))\n",
    "        \n",
    "        ll_B=get_binomial_log_likelihood(e,np.array([pB_heads[j],1-pB_heads[j]]))\n",
    "        weightA=math.exp(ll_A)/(math.exp(ll_A)+math.exp(ll_B))\n",
    "        weightB=math.exp(ll_B)/(math.exp(ll_A)+math.exp(ll_B))\n",
    "        expectation_A[i]=np.dot(weightA,e)\n",
    "        expectation_B[i]=np.dot(weightB,e)\n",
    "    pA_heads[j+1]=sum(expectation_A)[0]/sum(sum(expectation_A));\n",
    "    pB_heads[j+1]=sum(expectation_B)[0]/sum(sum(expectation_B));\n",
    "    improvement=(max(abs(np.array([pA_heads[j+1],pB_heads[j+1]])-np.array([pA_heads[j],pB_heads[j]]))))\n",
    "    print(np.array([pA_heads[j+1],pB_heads[j+1]])-np.array([pA_heads[j],pB_heads[j]]))\n",
    "    j=j+1\n",
    "plt.figure();\n",
    "plt.plot(range(0,j),pA_heads[0:j],color=\"red\")\n",
    "plt.plot(range(0,j),pB_heads[0:j])\n",
    "plt.show()"
   ]
  },
  {
   "cell_type": "code",
   "execution_count": null,
   "metadata": {},
   "outputs": [],
   "source": []
  }
 ],
 "metadata": {
  "kernelspec": {
   "display_name": "Python 2",
   "language": "python",
   "name": "python2"
  },
  "language_info": {
   "codemirror_mode": {
    "name": "ipython",
    "version": 2
   },
   "file_extension": ".py",
   "mimetype": "text/x-python",
   "name": "python",
   "nbconvert_exporter": "python",
   "pygments_lexer": "ipython2",
   "version": "2.7.15"
  }
 },
 "nbformat": 4,
 "nbformat_minor": 2
}
